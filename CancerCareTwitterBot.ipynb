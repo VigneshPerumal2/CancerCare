{
 "cells": [
  {
   "cell_type": "markdown",
   "source": [
    "Scraping for twitter"
   ],
   "metadata": {
    "collapsed": false,
    "pycharm": {
     "name": "#%% md\n"
    }
   }
  },
  {
   "cell_type": "code",
   "execution_count": 27,
   "outputs": [],
   "source": [
    "# from twitter_scraper_selenium import scrape_keyword\n",
    "# #scrap 10 posts by searching keyword \"india\" from date 30th August till date 31st August\n",
    "# cancer = scrape_keyword(keyword=\"#cancer #nonsmoking\", browser=\"chrome\",\n",
    "#                       tweets_count=1,output_format=\"json\" ,until=\"2023-08-31\", since=\"2021-08-30\")\n",
    "# print(cancer)"
   ],
   "metadata": {
    "collapsed": false
   }
  },
  {
   "cell_type": "markdown",
   "source": [
    "Database Connection"
   ],
   "metadata": {
    "collapsed": false,
    "pycharm": {
     "name": "#%% md\n"
    }
   }
  },
  {
   "cell_type": "code",
   "execution_count": 2,
   "outputs": [
    {
     "name": "stdout",
     "output_type": "stream",
     "text": [
      "DB Connected\n"
     ]
    }
   ],
   "source": [
    "import sqlite3\n",
    "\n",
    "conn = sqlite3.connect('cancer.db')\n",
    "\n",
    "try:\n",
    "    conn.cursor()\n",
    "    print(\"DB Connected\");\n",
    "except Exception as ex:\n",
    "    print(\"DB not Connected\");"
   ],
   "metadata": {
    "collapsed": false,
    "pycharm": {
     "name": "#%%\n"
    }
   }
  },
  {
   "cell_type": "markdown",
   "source": [
    "FOLLOWING TABLES ARE CREATED -\n",
    "User Table : This table contains the details of the user, who have tweeted\n",
    "Cancer Type Table : This table holds different categories of cancer\n",
    "Treatment Table: This table contains types of treatment based on Cancer type\n",
    "Location Table:This table describes the location of the user\n",
    "Smoking Table: This table briefs whether user is a smoker or not"
   ],
   "metadata": {
    "collapsed": false
   }
  },
  {
   "cell_type": "code",
   "execution_count": null,
   "outputs": [],
   "source": [
    "#USER TABLE\n",
    "conn = sqlite3.connect('cancer.db')\n",
    "print (\"Opened database successfully\");\n",
    "conn.execute('''DROP TABLE IF EXISTS USER;''')\n",
    "conn.execute('''CREATE TABLE IF NOT EXISTS USER\n",
    "         (Id INTEGER PRIMARY KEY AUTOINCREMENT,\n",
    "         User_Name     TEXT   NOT NULL,\n",
    "         Handle_Name   TEXT   NOT NULL,\n",
    "         Description   TEXT   NOT NULL,\n",
    "         Followers_Count     INTEGER,\n",
    "         Created_Date   TEXT  NOT NULL,\n",
    "         Image_Url      TEXT  NOT NULL);''')\n",
    "\n",
    "print (\"User Table created successfully\");\n",
    "\n",
    "conn.close()\n",
    "\n",
    "#CANCER_TYPE TABLE\n",
    "conn = sqlite3.connect('cancer.db')\n",
    "print (\"Opened database successfully\");\n",
    "conn.execute('''DROP TABLE IF EXISTS CANCER_TYPE;''')\n",
    "conn.execute('''CREATE TABLE IF NOT EXISTS CANCER_TYPE\n",
    "         (Cancer_Id INTEGER PRIMARY KEY AUTOINCREMENT,\n",
    "         Cancer_Type      TEXT  NOT NULL);''')\n",
    "\n",
    "print (\"Cancer_Type Table created successfully\");\n",
    "\n",
    "conn.close()\n",
    "\n",
    "#TREATMENT TABLE\n",
    "conn = sqlite3.connect('cancer.db')\n",
    "print (\"Opened database successfully\");\n",
    "conn.execute('''DROP TABLE IF EXISTS TREATMENT;''')\n",
    "conn.execute('''CREATE TABLE IF NOT EXISTS TREATMENT\n",
    "         (Treatment_Id INTEGER PRIMARY KEY AUTOINCREMENT,\n",
    "          Treatment_Type      TEXT  NOT NULL);''')\n",
    "\n",
    "print (\"Treatment Table created successfully\");\n",
    "\n",
    "conn.close()\n",
    "\n",
    "#LOCATION TABLE\n",
    "conn = sqlite3.connect('cancer.db')\n",
    "print (\"Opened database successfully\");\n",
    "conn.execute('''DROP TABLE IF EXISTS LOCATION;''')\n",
    "conn.execute('''CREATE TABLE IF NOT EXISTS LOCATION\n",
    "         (Location_Id INTEGER PRIMARY KEY AUTOINCREMENT,\n",
    "          Location     TEXT  NOT NULL);''')\n",
    "\n",
    "print (\"Location Table created successfully\");\n",
    "\n",
    "conn.close()\n",
    "\n",
    "#SMOKING TABLE\n",
    "conn = sqlite3.connect('cancer.db')\n",
    "print (\"Opened database successfully\");\n",
    "conn.execute('''DROP TABLE IF EXISTS SMOKING;''')\n",
    "conn.execute('''CREATE TABLE IF NOT EXISTS SMOKING\n",
    "         (Cancer_Id INTEGER NOT NULL,\n",
    "          Smoking_Id INTEGER PRIMARY KEY AUTOINCREMENT,\n",
    "          Smoker_Or_Not  INTEGER NOT NULL,\n",
    "          FOREIGN KEY(Cancer_Id) REFERENCES CANCER_TYPE(Cancer_Id) );''')\n",
    "\n",
    "print (\"Smoking Table created successfully\");\n",
    "\n",
    "conn.close()"
   ],
   "metadata": {
    "collapsed": false,
    "pycharm": {
     "is_executing": true
    }
   }
  },
  {
   "cell_type": "markdown",
   "source": [],
   "metadata": {
    "collapsed": false
   }
  },
  {
   "cell_type": "markdown",
   "source": [
    "FOLLOWING TABLES ARE CREATED -\n",
    "Tweets Table : This table contains the details of the tweet with the tweet handle name and the posted date\n",
    "Hashtag Table : This table holds details on the hashtag and the tweet_id\n",
    "Tweet mention Table: This table contains information about the tweet mention, source user and target user\n",
    "Tweet URL Table: This table describes the URL of the tweet and the URL Id"
   ],
   "metadata": {
    "collapsed": false
   }
  },
  {
   "cell_type": "code",
   "execution_count": 28,
   "outputs": [
    {
     "name": "stdout",
     "output_type": "stream",
     "text": [
      "Opened database successfully\n",
      "Tweets Table created successfully\n",
      "Opened database successfully\n",
      "Hashtag Table created successfully\n",
      "Opened database successfully\n",
      "Tweet Mention Table created successfully\n",
      "Opened database successfully\n",
      "Tweet URL Table created successfully\n"
     ]
    }
   ],
   "source": [
    "#TWEETS TABLE\n",
    "conn = sqlite3.connect('cancer.db')\n",
    "print (\"Opened database successfully\");\n",
    "conn.execute('''DROP TABLE IF EXISTS TWEETS;''')\n",
    "conn.execute('''CREATE TABLE IF NOT EXISTS TWEETS\n",
    "         (Tweet_Id INTEGER PRIMARY KEY NOT NULL,\n",
    "          Tweet_Handle TEXT NOT NULL,\n",
    "          Tweet_Text TEXT NOT NULL,\n",
    "          Posted_At DATE,\n",
    "          Id INTEGER NOT NULL,\n",
    "          FOREIGN KEY(Id) REFERENCES USER(Id));''')\n",
    "\n",
    "print (\"Tweets Table created successfully\");\n",
    "\n",
    "conn.close()\n",
    "\n",
    "\n",
    "#HASHTAG TABLE\n",
    "conn = sqlite3.connect('cancer.db')\n",
    "print (\"Opened database successfully\");\n",
    "conn.execute('''DROP TABLE IF EXISTS HASHTAG;''')\n",
    "conn.execute('''CREATE TABLE IF NOT EXISTS HASHTAG\n",
    "         (Hashtag_Id INTEGER PRIMARY KEY NOT NULL,\n",
    "          Hashtag_Text TEXT NOT NULL,\n",
    "          Tweet_Id  INTEGER NOT NULL,\n",
    "          FOREIGN KEY(Tweet_Id) REFERENCES TWEETS(Tweet_Id));''')\n",
    "\n",
    "print (\"Hashtag Table created successfully\");\n",
    "\n",
    "conn.close()\n",
    "\n",
    "\n",
    "#TWEET MENTION TABLE\n",
    "conn = sqlite3.connect('cancer.db')\n",
    "print (\"Opened database successfully\");\n",
    "conn.execute('''DROP TABLE IF EXISTS TWEET_MENTION;''')\n",
    "conn.execute('''CREATE TABLE IF NOT EXISTS TWEET_MENTION\n",
    "         (Mention_Id INTEGER PRIMARY KEY NOT NULL,\n",
    "          Source_User TEXT NOT NULL,\n",
    "          Target_User TEXT NOT NULL,\n",
    "          Tweet_Id  INTEGER NOT NULL,\n",
    "          FOREIGN KEY(Tweet_Id) REFERENCES TWEETS(Tweet_Id));''')\n",
    "\n",
    "print (\"Tweet Mention Table created successfully\");\n",
    "\n",
    "conn.close()\n",
    "\n",
    "\n",
    "#TWEET URL TABLE\n",
    "conn = sqlite3.connect('cancer.db')\n",
    "print (\"Opened database successfully\");\n",
    "conn.execute('''DROP TABLE IF EXISTS TWEET_URL;''')\n",
    "conn.execute('''CREATE TABLE IF NOT EXISTS TWEET_URL\n",
    "         (Url_Id INTEGER PRIMARY KEY NOT NULL,\n",
    "          Tweet_Url TEXT NOT NULL,\n",
    "          Tweet_Id  INTEGER NOT NULL,\n",
    "          FOREIGN KEY(Tweet_Id) REFERENCES TWEETS(Tweet_Id));''')\n",
    "\n",
    "print (\"Tweet URL Table created successfully\");\n",
    "\n",
    "conn.close()\n"
   ],
   "metadata": {
    "collapsed": false
   }
  }
 ],
 "metadata": {
  "kernelspec": {
   "display_name": "Python 3",
   "language": "python",
   "name": "python3"
  },
  "language_info": {
   "codemirror_mode": {
    "name": "ipython",
    "version": 2
   },
   "file_extension": ".py",
   "mimetype": "text/x-python",
   "name": "python",
   "nbconvert_exporter": "python",
   "pygments_lexer": "ipython2",
   "version": "2.7.6"
  }
 },
 "nbformat": 4,
 "nbformat_minor": 0
}

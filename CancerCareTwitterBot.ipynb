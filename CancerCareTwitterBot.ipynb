{
 "cells": [
  {
   "cell_type": "markdown",
   "source": [
    "Database Connection"
   ],
   "metadata": {
    "collapsed": false
   }
  },
  {
   "cell_type": "code",
   "execution_count": 8,
   "outputs": [
    {
     "name": "stdout",
     "output_type": "stream",
     "text": [
      "DB Connected\n"
     ]
    }
   ],
   "source": [
    "import sqlite3\n",
    "\n",
    "conn = sqlite3.connect('cancer.db')\n",
    "\n",
    "try:\n",
    "    conn.cursor()\n",
    "    print(\"DB Connected\");\n",
    "except Exception as ex:\n",
    "    print(\"DB not Connected\");"
   ],
   "metadata": {
    "collapsed": false
   }
  },
  {
   "cell_type": "markdown",
   "source": [
    "FOLLOWING TABLES ARE CREATED -\n",
    "User Table : This table contains the details of the user, who have tweeted\n",
    "Cancer Type Table : This table holds different categories of cancer\n",
    "Treatment Table: This table contains types of treatment based on Cancer type\n",
    "Location Table:This table describes the location of the user\n",
    "Smoking Table: This table briefs whether user is a smoker or not"
   ],
   "metadata": {
    "collapsed": false
   }
  },
  {
   "cell_type": "code",
   "execution_count": 9,
   "outputs": [
    {
     "name": "stdout",
     "output_type": "stream",
     "text": [
      "Opened database successfully\n",
      "User Table created successfully\n",
      "Opened database successfully\n",
      "Cancer_Type Table created successfully\n",
      "Opened database successfully\n",
      "Treatment Table created successfully\n",
      "Opened database successfully\n",
      "Location Table created successfully\n",
      "Opened database successfully\n",
      "Smoking Table created successfully\n"
     ]
    }
   ],
   "source": [
    "#USER TABLE\n",
    "conn = sqlite3.connect('cancer.db')\n",
    "print(\"Opened database successfully\");\n",
    "conn.execute('''DROP TABLE IF EXISTS USER;''')\n",
    "conn.execute('''CREATE TABLE IF NOT EXISTS USER\n",
    "         (\n",
    "         User_Id INTEGER PRIMARY KEY AUTOINCREMENT,\n",
    "         User_Name     TEXT   NOT NULL,\n",
    "         Handle_Name   TEXT   NOT NULL,\n",
    "         Description   TEXT   NOT NULL,\n",
    "         Followers_Count     INTEGER,\n",
    "         Created_Date   TEXT  NOT NULL,\n",
    "         Image_Url      TEXT  NOT NULL\n",
    "         );''')\n",
    "\n",
    "print(\"User Table created successfully\");\n",
    "\n",
    "conn.close()\n",
    "\n",
    "#CANCER_TYPE TABLE\n",
    "conn = sqlite3.connect('cancer.db')\n",
    "print(\"Opened database successfully\");\n",
    "conn.execute('''DROP TABLE IF EXISTS CANCER_TYPE;''')\n",
    "conn.execute('''CREATE TABLE IF NOT EXISTS CANCER_TYPE\n",
    "         (Hashtag_Id INTEGER NOT NULL,\n",
    "         Cancer_Id INTEGER PRIMARY KEY AUTOINCREMENT,\n",
    "         Cancer_Type      TEXT  NOT NULL,\n",
    "         FOREIGN KEY(Hashtag_Id) REFERENCES HASHTAG(Hashtag_Id));''')\n",
    "\n",
    "print(\"Cancer_Type Table created successfully\");\n",
    "\n",
    "conn.close()\n",
    "\n",
    "#TREATMENT TABLE\n",
    "conn = sqlite3.connect('cancer.db')\n",
    "print(\"Opened database successfully\");\n",
    "conn.execute('''DROP TABLE IF EXISTS TREATMENT;''')\n",
    "conn.execute('''CREATE TABLE IF NOT EXISTS TREATMENT\n",
    "         (Cancer_Id INTEGER NOT NULL,\n",
    "          Treatment_Id INTEGER PRIMARY KEY AUTOINCREMENT,\n",
    "          Treatment_Type      TEXT  NOT NULL,\n",
    "          FOREIGN KEY(Cancer_Id) REFERENCES CANCER_TYPE(Cancer_Id));''')\n",
    "\n",
    "print(\"Treatment Table created successfully\");\n",
    "\n",
    "conn.close()\n",
    "\n",
    "#LOCATION TABLE\n",
    "conn = sqlite3.connect('cancer.db')\n",
    "print(\"Opened database successfully\");\n",
    "conn.execute('''DROP TABLE IF EXISTS LOCATION;''')\n",
    "conn.execute('''CREATE TABLE IF NOT EXISTS LOCATION\n",
    "         (User_Id INTEGER NOT NULL ,\n",
    "          Location_Id INTEGER PRIMARY KEY AUTOINCREMENT,\n",
    "          Location    TEXT  ,\n",
    "          FOREIGN KEY(User_Id) REFERENCES USER(User_Id) );''')\n",
    "\n",
    "print(\"Location Table created successfully\");\n",
    "\n",
    "conn.close()\n",
    "\n",
    "#SMOKING TABLE\n",
    "conn = sqlite3.connect('cancer.db')\n",
    "print(\"Opened database successfully\");\n",
    "conn.execute('''DROP TABLE IF EXISTS SMOKING;''')\n",
    "conn.execute('''CREATE TABLE IF NOT EXISTS SMOKING\n",
    "         (Cancer_Id INTEGER NOT NULL,\n",
    "          Smoking_Id INTEGER PRIMARY KEY AUTOINCREMENT,\n",
    "          Smoker_Or_Not  INTEGER NOT NULL,\n",
    "          FOREIGN KEY(Cancer_Id) REFERENCES CANCER_TYPE(Cancer_Id) );''')\n",
    "\n",
    "print(\"Smoking Table created successfully\");\n",
    "\n",
    "conn.close()"
   ],
   "metadata": {
    "collapsed": false
   }
  },
  {
   "cell_type": "markdown",
   "source": [],
   "metadata": {
    "collapsed": false
   }
  },
  {
   "cell_type": "markdown",
   "source": [
    "FOLLOWING TABLES ARE CREATED -\n",
    "Tweets Table : This table contains the details of the tweet with the tweet handle name and the posted date\n",
    "Hashtag Table : This table holds details on the hashtag and the tweet_id\n",
    "Tweet mention Table: This table contains information about the tweet mention, source user and target user\n",
    "Tweet URL Table: This table describes the URL of the tweet and the URL Id"
   ],
   "metadata": {
    "collapsed": false
   }
  },
  {
   "cell_type": "code",
   "execution_count": 10,
   "outputs": [
    {
     "name": "stdout",
     "output_type": "stream",
     "text": [
      "Opened database successfully\n",
      "Tweets Table created successfully\n",
      "Opened database successfully\n",
      "Hashtag Table created successfully\n",
      "Opened database successfully\n",
      "Tweet Mention Table created successfully\n",
      "Opened database successfully\n",
      "Tweet URL Table created successfully\n"
     ]
    }
   ],
   "source": [
    "#TWEETS TABLE\n",
    "conn = sqlite3.connect('cancer.db')\n",
    "print(\"Opened database successfully\");\n",
    "conn.execute('''DROP TABLE IF EXISTS TWEETS;''')\n",
    "conn.execute('''CREATE TABLE IF NOT EXISTS TWEETS\n",
    "         (Tweet_Id INTEGER PRIMARY KEY NOT NULL,\n",
    "          Tweet_Handle TEXT NOT NULL,\n",
    "          Tweet_Text TEXT NOT NULL,\n",
    "          Posted_At TEXT,\n",
    "          User_Id INTEGER NOT NULL,\n",
    "          FOREIGN KEY(User_Id) REFERENCES USER(User_Id));''')\n",
    "\n",
    "print(\"Tweets Table created successfully\");\n",
    "\n",
    "conn.close()\n",
    "\n",
    "#HASHTAG TABLE\n",
    "conn = sqlite3.connect('cancer.db')\n",
    "print(\"Opened database successfully\");\n",
    "conn.execute('''DROP TABLE IF EXISTS HASHTAG;''')\n",
    "conn.execute('''CREATE TABLE IF NOT EXISTS HASHTAG\n",
    "         (Hashtag_Id INTEGER PRIMARY KEY NOT NULL,\n",
    "          Hashtag_Text TEXT NOT NULL,\n",
    "          Tweet_Id  INTEGER NOT NULL,\n",
    "          FOREIGN KEY(Tweet_Id) REFERENCES TWEETS(Tweet_Id));''')\n",
    "\n",
    "print(\"Hashtag Table created successfully\");\n",
    "\n",
    "conn.close()\n",
    "\n",
    "#TWEET MENTION TABLE\n",
    "conn = sqlite3.connect('cancer.db')\n",
    "print(\"Opened database successfully\");\n",
    "conn.execute('''DROP TABLE IF EXISTS TWEET_MENTION;''')\n",
    "conn.execute('''CREATE TABLE IF NOT EXISTS TWEET_MENTION\n",
    "         (Mention_Id INTEGER PRIMARY KEY NOT NULL,\n",
    "          Source_User TEXT NOT NULL,\n",
    "          Target_User TEXT NOT NULL,\n",
    "          Tweet_Id  INTEGER NOT NULL,\n",
    "          FOREIGN KEY(Tweet_Id) REFERENCES TWEETS(Tweet_Id));''')\n",
    "\n",
    "print(\"Tweet Mention Table created successfully\");\n",
    "\n",
    "conn.close()\n",
    "\n",
    "#TWEET URL TABLE\n",
    "conn = sqlite3.connect('cancer.db')\n",
    "print(\"Opened database successfully\");\n",
    "conn.execute('''DROP TABLE IF EXISTS TWEET_URL;''')\n",
    "conn.execute('''CREATE TABLE IF NOT EXISTS TWEET_URL\n",
    "         (Url_Id INTEGER PRIMARY KEY NOT NULL,\n",
    "          Tweet_Url TEXT NOT NULL,\n",
    "          Tweet_Id  INTEGER NOT NULL,\n",
    "          FOREIGN KEY(Tweet_Id) REFERENCES TWEETS(Tweet_Id));''')\n",
    "\n",
    "print(\"Tweet URL Table created successfully\");\n",
    "\n",
    "conn.close()\n"
   ],
   "metadata": {
    "collapsed": false,
    "pycharm": {
     "name": "#%%\n"
    }
   }
  },
  {
   "cell_type": "markdown",
   "source": [
    "Scrapping Twitter for #Cancer"
   ],
   "metadata": {
    "collapsed": false,
    "pycharm": {
     "name": "#%% md\n"
    }
   }
  },
  {
   "cell_type": "code",
   "execution_count": 11,
   "outputs": [
    {
     "name": "stderr",
     "output_type": "stream",
     "text": [
      "[WDM] - Current google-chrome version is 107.0.5304\n",
      "[WDM] - Get LATEST driver version for 107.0.5304\n"
     ]
    },
    {
     "name": "stdout",
     "output_type": "stream",
     "text": [
      " \n"
     ]
    },
    {
     "name": "stderr",
     "output_type": "stream",
     "text": [
      "[WDM] - Driver [/Users/sunayanashivanagi/.wdm/drivers/chromedriver/mac64/107.0.5304.62/chromedriver] found in cache\n"
     ]
    },
    {
     "name": "stdout",
     "output_type": "stream",
     "text": [
      "User-> {'id': 21572351, 'id_str': '21572351', 'name': 'Billy Long', 'screen_name': 'auctnr1', 'location': 'Springfield, Missouri', 'profile_location': None, 'description': 'MO-7 Congressman, Springfield, Joplin, Branson. On the Energy & Commerce Committee. Subs. Health, Telecomm & Oversight', 'url': None, 'entities': {'description': {'urls': []}}, 'protected': False, 'followers_count': 10980, 'fast_followers_count': 0, 'normal_followers_count': 10980, 'friends_count': 6347, 'listed_count': 413, 'created_at': 'Sun Feb 22 15:38:43 +0000 2009', 'favourites_count': 123, 'utc_offset': None, 'time_zone': None, 'geo_enabled': True, 'verified': True, 'statuses_count': 106269, 'media_count': 3335, 'lang': None, 'status': {'created_at': 'Sat Nov 12 19:46:05 +0000 2022', 'id': 1591517708729958403, 'id_str': '1591517708729958403', 'text': \"Lebanon #Missouri native, @MissouriState alum, Radio Hall of Famer, #VietnamVeteran and one of my best friends 'Jim… https://t.co/iyeJqjUtGx\", 'truncated': True, 'entities': {'hashtags': [{'text': 'Missouri', 'indices': [8, 17]}, {'text': 'VietnamVeteran', 'indices': [68, 83]}], 'symbols': [], 'user_mentions': [{'screen_name': 'MissouriState', 'name': 'Missouri State', 'id': 15824098, 'id_str': '15824098', 'indices': [26, 40]}], 'urls': [{'url': 'https://t.co/iyeJqjUtGx', 'expanded_url': 'https://twitter.com/i/web/status/1591517708729958403', 'display_url': 'twitter.com/i/web/status/1…', 'indices': [117, 140]}]}, 'source': '<a href=\"http://twitter.com/download/iphone\" rel=\"nofollow\">Twitter for iPhone</a>', 'in_reply_to_status_id': None, 'in_reply_to_status_id_str': None, 'in_reply_to_user_id': None, 'in_reply_to_user_id_str': None, 'in_reply_to_screen_name': None, 'geo': None, 'coordinates': None, 'place': None, 'contributors': None, 'is_quote_status': False, 'retweet_count': 1, 'favorite_count': 1, 'favorited': False, 'retweeted': False, 'lang': 'en', 'supplemental_language': None}, 'contributors_enabled': False, 'is_translator': False, 'is_translation_enabled': False, 'profile_background_color': 'C0DEED', 'profile_background_image_url': 'http://abs.twimg.com/images/themes/theme1/bg.png', 'profile_background_image_url_https': 'https://abs.twimg.com/images/themes/theme1/bg.png', 'profile_background_tile': False, 'profile_image_url': 'http://pbs.twimg.com/profile_images/1779073741/JoplinFundraiser_normal.JPG', 'profile_image_url_https': 'https://pbs.twimg.com/profile_images/1779073741/JoplinFundraiser_normal.JPG', 'profile_banner_url': 'https://pbs.twimg.com/profile_banners/21572351/1369173880', 'profile_link_color': '0084B4', 'profile_sidebar_border_color': 'C0DEED', 'profile_sidebar_fill_color': 'DDEEF6', 'profile_text_color': '333333', 'profile_use_background_image': True, 'has_extended_profile': True, 'default_profile': False, 'default_profile_image': False, 'pinned_tweet_ids': [1590630672753782785], 'pinned_tweet_ids_str': ['1590630672753782785'], 'has_custom_timelines': True, 'following': None, 'follow_request_sent': None, 'notifications': None, 'advertiser_account_type': 'promotable_user', 'advertiser_account_service_levels': ['analytics'], 'business_profile_state': 'none', 'translator_type': 'none', 'withheld_in_countries': [], 'require_some_consent': False}\n",
      "auctnr1\n",
      "{'tweet_id': '1591517708729958403', 'username': 'auctnr1', 'name': 'Billy Long', 'profile_picture': 'https://pbs.twimg.com/profile_images/1779073741/JoplinFundraiser_x96.JPG', 'replies': 0, 'retweets': 1, 'likes': 1, 'is_retweet': False, 'posted_time': '2022-11-12T19:46:05+00:00', 'content': \"Lebanon #Missouri native, \\n@MissouriState\\n alum, Radio Hall of Famer, #VietnamVeteran and one of my best friends 'Jimbo' Jim Bohannon got to see one last Veteran's Day yesterday before succumbing to #Cancer today. Prayers to Annabelle and the family. Man am I gonna miss that laugh.\", 'hashtags': ['Missouri', 'VietnamVeteran', 'Cancer'], 'mentions': ['MissouriState'], 'images': [], 'videos': [], 'tweet_url': 'https://twitter.com/auctnr1/status/1591517708729958403', 'link': ''}\n",
      "{'tweet_id': '1591517708729958403', 'username': 'auctnr1', 'name': 'Billy Long', 'profile_picture': 'https://pbs.twimg.com/profile_images/1779073741/JoplinFundraiser_x96.JPG', 'replies': 0, 'retweets': 1, 'likes': 1, 'is_retweet': False, 'posted_time': '2022-11-12T19:46:05+00:00', 'content': \"Lebanon #Missouri native, \\n@MissouriState\\n alum, Radio Hall of Famer, #VietnamVeteran and one of my best friends 'Jimbo' Jim Bohannon got to see one last Veteran's Day yesterday before succumbing to #Cancer today. Prayers to Annabelle and the family. Man am I gonna miss that laugh.\", 'hashtags': ['Missouri', 'VietnamVeteran', 'Cancer'], 'mentions': ['MissouriState'], 'images': [], 'videos': [], 'tweet_url': 'https://twitter.com/auctnr1/status/1591517708729958403', 'link': ''}\n"
     ]
    }
   ],
   "source": [
    "from twitter_scraper_selenium import scrape_keyword\n",
    "import json\n",
    "from twitter_scraper_selenium import get_profile_details\n",
    "\n",
    "\n",
    "\n",
    "#SCRAPING FOR CANCER KEYWORD\n",
    "cancer = json.loads(scrape_keyword(keyword=\"#cancer\", browser=\"chrome\",\n",
    "                                   tweets_count=1, output_format=\"json\", until=\"2023-08-31\", since=\"2022-11-11\"))\n",
    "\n",
    "for item in cancer:\n",
    "    userName = cancer[item]['username'];\n",
    "\n",
    "    #Fetching User profile Data\n",
    "    filename = \"twitter_api_data\"\n",
    "    data = json.loads(get_profile_details(twitter_username=userName))\n",
    "\n",
    "    print(\"User->\",data)\n",
    "\n",
    "    #Storing details which are to be inserted\n",
    "    Handle_Name = data['name']\n",
    "    Description = data['description']\n",
    "    Followers_Count = data['followers_count']\n",
    "    Created_Date = data['created_at']\n",
    "    Image_Url = data['profile_image_url']\n",
    "    Tweets_Handle = data['name']\n",
    "    Tweets_Text = cancer[item]['content']\n",
    "    Posted_At = cancer[item]['posted_time']\n",
    "    Tweet_id = cancer[item]['tweet_id']\n",
    "    location = 'NA' if data['profile_location'] == \"\" else data['profile_location']\n",
    "    Tweet_Url= cancer[item]['tweet_url']\n",
    "\n",
    "\n",
    "    #Insert into USER table\n",
    "    conn = sqlite3.connect('cancer.db')\n",
    "    conn.execute(\n",
    "        'INSERT INTO USER (User_Name,Handle_Name,Description,Followers_Count,Created_Date,Image_Url) VALUES (?,?,?,?,?,?)',\n",
    "        (userName, Handle_Name, Description, Followers_Count, Created_Date, Image_Url))\n",
    "    conn.commit()\n",
    "    conn.close()\n",
    "\n",
    "    #Fetch User_id from USER Table\n",
    "    print(userName)\n",
    "    User_id=0;\n",
    "    conn = sqlite3.connect('cancer.db')\n",
    "    cur = conn.cursor()\n",
    "    cur.execute('SELECT User_Id FROM USER WHERE User_Name = ?', (userName,))\n",
    "    rows = cur.fetchone()\n",
    "\n",
    "    for row in rows:\n",
    "        User_id=row\n",
    "\n",
    "    conn.commit()\n",
    "    conn.close()\n",
    "\n",
    "\n",
    "\n",
    "    #Insert into TWEETS table\n",
    "    conn = sqlite3.connect('cancer.db')\n",
    "    conn.execute(\n",
    "        'INSERT INTO TWEETS (Tweet_Id,Tweet_Handle,Tweet_Text,Posted_At,User_Id) VALUES (?,?,?,?,?)',\n",
    "        (Tweet_id, Handle_Name, Tweets_Text, Posted_At, User_id))\n",
    "    conn.commit()\n",
    "    conn.close()\n",
    "\n",
    "    print(cancer[item]);\n",
    "\n",
    "    #Insert into LOCATION table\n",
    "    conn = sqlite3.connect('cancer.db')\n",
    "    conn.execute(\n",
    "        'INSERT INTO LOCATION (Location,User_Id) VALUES (?,?)',\n",
    "        (location , User_id))\n",
    "    conn.commit()\n",
    "    conn.close()\n",
    "\n",
    "    print(cancer[item]);\n",
    "\n",
    "    #Insert into TWEET_URL Table\n",
    "    conn = sqlite3.connect('cancer.db')\n",
    "    conn.execute(\n",
    "        'INSERT INTO Tweet_Url (Tweet_Id,Tweet_Url) VALUES (?,?)',\n",
    "        (Tweet_id , Tweet_Url))\n",
    "    conn.commit()\n",
    "    conn.close()\n",
    "\n"
   ],
   "metadata": {
    "collapsed": false
   }
  }
 ],
 "metadata": {
  "kernelspec": {
   "display_name": "Python 3",
   "language": "python",
   "name": "python3"
  },
  "language_info": {
   "codemirror_mode": {
    "name": "ipython",
    "version": 2
   },
   "file_extension": ".py",
   "mimetype": "text/x-python",
   "name": "python",
   "nbconvert_exporter": "python",
   "pygments_lexer": "ipython2",
   "version": "2.7.6"
  }
 },
 "nbformat": 4,
 "nbformat_minor": 0
}

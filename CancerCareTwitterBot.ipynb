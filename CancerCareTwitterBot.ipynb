{
 "cells": [
  {
   "cell_type": "markdown",
   "source": [
    "Scraping for twitter"
   ],
   "metadata": {
    "collapsed": false,
    "pycharm": {
     "name": "#%% md\n"
    }
   }
  },
  {
   "cell_type": "code",
   "execution_count": 1,
   "outputs": [
    {
     "ename": "ImportError",
     "evalue": "cannot import name 'scrape_keyword' from 'twitter_scraper_selenium' (/Users/vigy/PycharmProjects/TwitterScrapperDMDD/venv/lib/python3.10/site-packages/twitter_scraper_selenium/__init__.py)",
     "output_type": "error",
     "traceback": [
      "\u001B[0;31m---------------------------------------------------------------------------\u001B[0m",
      "\u001B[0;31mImportError\u001B[0m                               Traceback (most recent call last)",
      "Cell \u001B[0;32mIn [1], line 1\u001B[0m\n\u001B[0;32m----> 1\u001B[0m \u001B[38;5;28;01mfrom\u001B[39;00m \u001B[38;5;21;01mtwitter_scraper_selenium\u001B[39;00m \u001B[38;5;28;01mimport\u001B[39;00m scrape_keyword\n\u001B[1;32m      2\u001B[0m \u001B[38;5;66;03m#scrap 10 posts by searching keyword \"india\" from date 30th August till date 31st August\u001B[39;00m\n\u001B[1;32m      3\u001B[0m cancer \u001B[38;5;241m=\u001B[39m scrape_keyword(keyword\u001B[38;5;241m=\u001B[39m\u001B[38;5;124m\"\u001B[39m\u001B[38;5;124m#cancer #nonsmoking\u001B[39m\u001B[38;5;124m\"\u001B[39m, browser\u001B[38;5;241m=\u001B[39m\u001B[38;5;124m\"\u001B[39m\u001B[38;5;124mchrome\u001B[39m\u001B[38;5;124m\"\u001B[39m,\n\u001B[1;32m      4\u001B[0m                       tweets_count\u001B[38;5;241m=\u001B[39m\u001B[38;5;241m1\u001B[39m,output_format\u001B[38;5;241m=\u001B[39m\u001B[38;5;124m\"\u001B[39m\u001B[38;5;124mjson\u001B[39m\u001B[38;5;124m\"\u001B[39m ,until\u001B[38;5;241m=\u001B[39m\u001B[38;5;124m\"\u001B[39m\u001B[38;5;124m2023-08-31\u001B[39m\u001B[38;5;124m\"\u001B[39m, since\u001B[38;5;241m=\u001B[39m\u001B[38;5;124m\"\u001B[39m\u001B[38;5;124m2021-08-30\u001B[39m\u001B[38;5;124m\"\u001B[39m)\n",
      "\u001B[0;31mImportError\u001B[0m: cannot import name 'scrape_keyword' from 'twitter_scraper_selenium' (/Users/vigy/PycharmProjects/TwitterScrapperDMDD/venv/lib/python3.10/site-packages/twitter_scraper_selenium/__init__.py)"
     ]
    }
   ],
   "source": [
    "from twitter_scraper_selenium import scrape_keyword\n",
    "#scrap 10 posts by searching keyword \"india\" from date 30th August till date 31st August\n",
    "cancer = scrape_keyword(keyword=\"#cancer #nonsmoking\", browser=\"chrome\",\n",
    "                      tweets_count=1,output_format=\"json\" ,until=\"2023-08-31\", since=\"2021-08-30\")\n",
    "print(cancer)"
   ],
   "metadata": {
    "collapsed": false,
    "pycharm": {
     "name": "#%%\n"
    }
   }
  },
  {
   "cell_type": "markdown",
   "source": [
    "Database Connection"
   ],
   "metadata": {
    "collapsed": false,
    "pycharm": {
     "name": "#%% md\n"
    }
   }
  },
  {
   "cell_type": "code",
   "execution_count": 10,
   "outputs": [
    {
     "name": "stdout",
     "output_type": "stream",
     "text": [
      "DB Connected\n"
     ]
    }
   ],
   "source": [
    "import sqlite3\n",
    "\n",
    "conn = sqlite3.connect('cancer.db')\n",
    "\n",
    "try:\n",
    "    conn.cursor()\n",
    "    print(\"DB Connected\");\n",
    "except Exception as ex:\n",
    "    print(\"DB not Connected\");"
   ],
   "metadata": {
    "collapsed": false,
    "pycharm": {
     "name": "#%%\n"
    }
   }
  },
  {
   "cell_type": "markdown",
   "source": [
    "User Table\n"
   ],
   "metadata": {
    "collapsed": false,
    "pycharm": {
     "name": "#%% md\n"
    }
   }
  },
  {
   "cell_type": "code",
   "execution_count": 8,
   "outputs": [
    {
     "name": "stdout",
     "output_type": "stream",
     "text": [
      "Opened database successfully\n",
      "User Table created successfully\n"
     ]
    }
   ],
   "source": [
    "conn = sqlite3.connect('cancer.db')\n",
    "print (\"Opened database successfully\");\n",
    "conn.execute('''drop table IF EXISTS USER;''')\n",
    "conn.execute('''CREATE TABLE if not exists USER\n",
    "         (Id INTEGER PRIMARY KEY AUTOINCREMENT,\n",
    "         User_Name     TEXT   NOT NULL,\n",
    "         Handle_Name   TEXT   NOT NULL,\n",
    "         Description   TEXT   NOT NULL,\n",
    "         Followers_Count     INTEGER,\n",
    "         Created_Date   TEXT  NOT NULL,\n",
    "         Image_Url      TEXT  NOT NULL);''')\n",
    "\n",
    "conn.execute('''''')\n",
    "print (\"User Table created successfully\");\n",
    "\n",
    "conn.close()"
   ],
   "metadata": {
    "collapsed": false,
    "pycharm": {
     "name": "#%%\n"
    }
   }
  },
  {
   "cell_type": "markdown",
   "source": [
    "\"TWEET TABLE\" : TABEL TO STORE TWEETS, TWEET HANDLE, THE CONTENT OF THE TWEET AND WHEN IT WAS POSTED.\n",
    "\"HASHTAG TABLE\" : TO STORE HASHTAGS APPEARING IN A TWEET, IT ALSO INCLUDES HASHTAG_ID.\n",
    "\"TWEET MENTION\" : TABLE TO STORE TWEET MENTIONS ALONG WITH TWEET_ID,THE SOURCE AND TARGET USER.\n",
    "\"TWEET URL\" : TABLE TO STORE THE URL OF THE TWEETS WITH THE ID OF THE URL."
   ],
   "metadata": {
    "collapsed": false
   }
  },
  {
   "cell_type": "code",
   "execution_count": 22,
   "outputs": [
    {
     "name": "stdout",
     "output_type": "stream",
     "text": [
      "Opened database successfully\n",
      "Tweet URL Table created successfully\n"
     ]
    }
   ],
   "source": [
    "#!/usr/bin/python\n",
    "\n",
    "conn = sqlite3.connect('cancer.db')\n",
    "print (\"Opened database successfully\");\n",
    "conn.execute('''drop table IF EXISTS TWEET_URL;''')\n",
    "conn.execute('''CREATE TABLE if not exists TWEET_URL\n",
    "         ( URL_ID INTEGER PRIMARY KEY  NOT NULL,\n",
    "           TWEET_URL TEXT  NOT NULL,\n",
    "           TWEET_ID INTEGER,\n",
    "           FOREIGN KEY (TWEET_ID) REFERENCES TWEET(TWEET_ID));''')\n",
    "print (\"Tweet URL Table created successfully\");\n",
    "\n",
    "conn.close()\n"
   ],
   "metadata": {
    "collapsed": false
   }
  }
 ],
 "metadata": {
  "kernelspec": {
   "display_name": "Python 3",
   "language": "python",
   "name": "python3"
  },
  "language_info": {
   "codemirror_mode": {
    "name": "ipython",
    "version": 2
   },
   "file_extension": ".py",
   "mimetype": "text/x-python",
   "name": "python",
   "nbconvert_exporter": "python",
   "pygments_lexer": "ipython2",
   "version": "2.7.6"
  }
 },
 "nbformat": 4,
 "nbformat_minor": 0
}

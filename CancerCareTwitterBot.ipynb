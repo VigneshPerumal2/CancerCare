{
 "cells": [
  {
   "cell_type": "markdown",
   "source": [
    "Scraping for twitter"
   ],
   "metadata": {
    "collapsed": false,
    "pycharm": {
     "name": "#%% md\n"
    }
   }
  },
  {
   "cell_type": "code",
   "execution_count": 11,
   "outputs": [
    {
     "name": "stderr",
     "output_type": "stream",
     "text": [
      "[WDM] - Current google-chrome version is 107.0.5304\n",
      "[WDM] - Get LATEST driver version for 107.0.5304\n",
      "[WDM] - Driver [/Users/sunayanashivanagi/.wdm/drivers/chromedriver/mac64/107.0.5304.62/chromedriver] found in cache\n"
     ]
    },
    {
     "name": "stdout",
     "output_type": "stream",
     "text": [
      " \n",
      "{\"1496367405852991490\": {\"tweet_id\": \"1496367405852991490\", \"username\": \"Emedkit_Medicin\", \"name\": \"Emedkit\", \"profile_picture\": \"https://pbs.twimg.com/profile_images/1358018215746625536/ldZsnUhV_x96.jpg\", \"replies\": 1, \"retweets\": 0, \"likes\": 4, \"is_retweet\": false, \"posted_time\": \"2022-02-23T06:12:45+00:00\", \"content\": \"Did you know fully half of women diagnosed with lung cancer have never smoked? \\nDoctors are aware of this startling fact and continue to study why this trend happens to women who are never smokers.\\n\\n#lungcancer #lungs #lung #women #neversmoker #nonsmoking #Cancer #emedkit\", \"hashtags\": [\"lungcancer\", \"lungs\", \"lung\", \"women\", \"neversmoker\", \"nonsmoking\", \"Cancer\", \"emedkit\"], \"mentions\": [], \"images\": [\"https://pbs.twimg.com/media/FMQqOYRWQAU0Dgl?format=jpg&name=medium\"], \"videos\": [], \"tweet_url\": \"https://twitter.com/Emedkit_Medicin/status/1496367405852991490\", \"link\": \"\"}}\n"
     ]
    }
   ],
   "source": [
    "from twitter_scraper_selenium import scrape_keyword\n",
    "#scrap 10 posts by searching keyword \"india\" from date 30th August till date 31st August\n",
    "cancer = scrape_keyword(keyword=\"#cancer #nonsmoking\", browser=\"chrome\",\n",
    "                      tweets_count=1,output_format=\"json\" ,until=\"2023-08-31\", since=\"2021-08-30\")\n",
    "print(cancer)"
   ],
   "metadata": {
    "collapsed": false
   }
  },
  {
   "cell_type": "markdown",
   "source": [
    "Database Connection"
   ],
   "metadata": {
    "collapsed": false,
    "pycharm": {
     "name": "#%% md\n"
    }
   }
  },
  {
   "cell_type": "code",
   "execution_count": 10,
   "outputs": [
    {
     "name": "stdout",
     "output_type": "stream",
     "text": [
      "DB Connected\n"
     ]
    }
   ],
   "source": [
    "import sqlite3\n",
    "\n",
    "conn = sqlite3.connect('cancer.db')\n",
    "\n",
    "try:\n",
    "    conn.cursor()\n",
    "    print(\"DB Connected\");\n",
    "except Exception as ex:\n",
    "    print(\"DB not Connected\");"
   ],
   "metadata": {
    "collapsed": false
   }
  },
  {
   "cell_type": "markdown",
   "source": [
    "Tweet Url\n"
   ],
   "metadata": {
    "collapsed": false
   }
  },
  {
   "cell_type": "code",
   "execution_count": null,
   "outputs": [],
   "source": [
    "conn = sqlite3.connect('test.db')\n",
    "print (\"Opened database successfully\");\n",
    "conn.execute('''drop table COMPANY;''')\n",
    "conn.execute('''CREATE TABLE if not exists COMPANY\n",
    "         (ID INTEGER PRIMARY KEY AUTOINCREMENT,\n",
    "         NAME           TEXT    NOT NULL,\n",
    "         AGE            INT     NOT NULL,\n",
    "         ADDRESS        CHAR(50),\n",
    "         SALARY         REAL);''')\n",
    "\n",
    "conn.execute('''''')\n",
    "print (\"Table created successfully\");\n",
    "\n",
    "conn.close()"
   ],
   "metadata": {
    "collapsed": false
   }
  }
 ],
 "metadata": {
  "kernelspec": {
   "display_name": "Python 3",
   "language": "python",
   "name": "python3"
  },
  "language_info": {
   "codemirror_mode": {
    "name": "ipython",
    "version": 2
   },
   "file_extension": ".py",
   "mimetype": "text/x-python",
   "name": "python",
   "nbconvert_exporter": "python",
   "pygments_lexer": "ipython2",
   "version": "2.7.6"
  }
 },
 "nbformat": 4,
 "nbformat_minor": 0
}

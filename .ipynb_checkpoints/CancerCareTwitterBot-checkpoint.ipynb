{
 "cells": [
  {
   "cell_type": "markdown",
   "metadata": {},
   "source": [
    "Database Connection"
   ]
  },
  {
   "cell_type": "code",
   "execution_count": 2,
   "metadata": {
    "collapsed": false,
    "jupyter": {
     "outputs_hidden": false
    }
   },
   "outputs": [
    {
     "name": "stdout",
     "output_type": "stream",
     "text": [
      "DB Connected\n"
     ]
    }
   ],
   "source": [
    "import sqlite3\n",
    "\n",
    "conn = sqlite3.connect('cancer.db')\n",
    "\n",
    "try:\n",
    "    conn.cursor()\n",
    "    print(\"DB Connected\");\n",
    "except Exception as ex:\n",
    "    print(\"DB not Connected\");"
   ]
  },
  {
   "cell_type": "markdown",
   "metadata": {
    "pycharm": {
     "name": "#%% md\n"
    }
   },
   "source": [
    "FOLLOWING TABLES ARE CREATED -\n",
    "User Table : This table contains the details of the user, who have tweeted\n",
    "Cancer Type Table : This table holds different categories of cancer\n",
    "Treatment Table: This table contains types of treatment based on Cancer type\n",
    "Location Table:This table describes the location of the user"
   ]
  },
  {
   "cell_type": "code",
   "execution_count": 5,
   "metadata": {
    "collapsed": false,
    "jupyter": {
     "outputs_hidden": false
    },
    "pycharm": {
     "name": "#%%\n"
    }
   },
   "outputs": [
    {
     "name": "stdout",
     "output_type": "stream",
     "text": [
      "Opened database successfully\n",
      "Patient Table created successfully\n",
      "Opened database successfully\n",
      "Cancer_Type Table created successfully\n",
      "Opened database successfully\n",
      "Diagnosis Table created successfully\n",
      "Opened database successfully\n",
      "Antibiotics Table created successfully\n"
     ]
    }
   ],
   "source": [
    "#PATIENT TABLE\n",
    "conn = sqlite3.connect('cancer.db')\n",
    "print(\"Opened database successfully\");\n",
    "conn.execute('''DROP TABLE IF EXISTS PATIENT;''')\n",
    "conn.execute('''CREATE TABLE IF NOT EXISTS PATIENT\n",
    "         (\n",
    "         Patient_Id  TEXT NOT NULL PRIMARY KEY,\n",
    "         Sample_Id     TEXT  NOT NULL,\n",
    "         Age          INTEGER ,\n",
    "         Race   TEXT  NOT NULL,\n",
    "         Sex    TEXT  NOT NULL ,\n",
    "         No_of_Samples_Patient INTEGER,\n",
    "         Smoker        TEXT  NOT NULL,\n",
    "         Smoking_Staus TEXT  NOT NULL,\n",
    "         Study_id      TEXT  NOT NULL\n",
    "         );''')\n",
    "\n",
    "print(\"Patient Table created successfully\");\n",
    "\n",
    "conn.close()\n",
    "\n",
    "#CANCER_TYPE TABLE\n",
    "conn = sqlite3.connect('cancer.db')\n",
    "print(\"Opened database successfully\");\n",
    "conn.execute('''DROP TABLE IF EXISTS CANCER_TYPE;''')\n",
    "conn.execute('''CREATE TABLE IF NOT EXISTS CANCER_TYPE\n",
    "\n",
    "         (Patient_Id  TEXT NOT NULL ,\n",
    "         Cancer_Type_Id INTEGER PRIMARY KEY,\n",
    "         Study_Id TEXT  NOT NULL,\n",
    "         Cancer_Type  TEXT  NOT NULL,\n",
    "         Cancer_Type_Detail  TEXT  NOT NULL,\n",
    "         All_Therapy_At_MSKCC TEXT  NOT NULL,\n",
    "         FOREIGN KEY(Patient_Id) REFERENCES PATIENT(Patient_Id));''')\n",
    "\n",
    "print(\"Cancer_Type Table created successfully\");\n",
    "\n",
    "conn.close()\n",
    "\n",
    "#DIAGNOSIS TABLE\n",
    "conn = sqlite3.connect('cancer.db')\n",
    "print(\"Opened database successfully\");\n",
    "conn.execute('''DROP TABLE IF EXISTS DIAGNOSIS;''')\n",
    "conn.execute('''CREATE TABLE IF NOT EXISTS DIAGNOSIS\n",
    "\n",
    "         (Diagnosis_Id INTEGER NOT NULL PRIMARY KEY,\n",
    "          Patient_Id TEXT NOT NULL,\n",
    "          Study_Id      TEXT  NOT NULL,\n",
    "          Time_From_Diagnosis_ID INTEGER NOT NULL,\n",
    "          Time_From_Diagnosis INTEGER NOT NULL,\n",
    "          Time_Draw_BloodTreatment INTEGER NOT NULL,\n",
    "          FOREIGN KEY(Patient_Id) REFERENCES PATIENT(Patient_Id));''')\n",
    "\n",
    "print(\"Diagnosis Table created successfully\");\n",
    "\n",
    "conn.close()\n",
    "\n",
    "#ANTIBIOTICS TABLE\n",
    "conn = sqlite3.connect('cancer.db')\n",
    "print(\"Opened database successfully\");\n",
    "conn.execute('''DROP TABLE IF EXISTS ANTIBIOTICS;''')\n",
    "conn.execute('''CREATE TABLE IF NOT EXISTS ANTIBIOTICS\n",
    "\n",
    "         (Alkylating_Agent_Treatment_ID INTEGER NOT NULL PRIMARY KEY ,\n",
    "          Alkylating_Agent_Treatment TEXT  NOT NULL,\n",
    "          Patient_Id TEXT  NOT NULL,\n",
    "          Study_ID TEXT  NOT NULL,\n",
    "          Cumulative_Expo_AlkylatingAgentTreat TEXT  NOT NULL,\n",
    "          Anthracycline_Treatment TEXT  NOT NULL,\n",
    "          Cumulative_Expo_AnthracyclineTreat TEXT  NOT NULL,\n",
    "          Targeted_Therapy_Treatment TEXT  NOT NULL,\n",
    "          Cumulative_Expo_TargetedTherapyTreat TEXT  NOT NULL,\n",
    "          Taxane_Treatment TEXT  NOT NULL,\n",
    "          Cumulative_Expo_TaxaneTreat TEXT  NOT NULL,\n",
    "          FOREIGN KEY(Patient_Id) REFERENCES USER(Patient_Id) );''')\n",
    "\n",
    "print(\"Antibiotics Table created successfully\");\n",
    "\n",
    "conn.close()\n",
    "\n"
   ]
  },
  {
   "cell_type": "markdown",
   "metadata": {
    "pycharm": {
     "name": "#%% md\n"
    }
   },
   "source": []
  },
  {
   "cell_type": "markdown",
   "metadata": {
    "pycharm": {
     "name": "#%% md\n"
    }
   },
   "source": [
    "FOLLOWING TABLES ARE CREATED -\n",
    "Tweets Table : This table contains the details of the tweet with the tweet handle name and the posted date\n",
    "Hashtag Table : This table holds details on the hashtag and the tweet_id\n",
    "Tweet mention Table: This table contains information about the tweet mention, source user and target user\n",
    "Tweet URL Table: This table describes the URL of the tweet and the URL Id"
   ]
  },
  {
   "cell_type": "code",
   "execution_count": 7,
   "metadata": {
    "collapsed": false,
    "jupyter": {
     "outputs_hidden": false
    },
    "pycharm": {
     "name": "#%%\n"
    }
   },
   "outputs": [
    {
     "name": "stdout",
     "output_type": "stream",
     "text": [
      "Opened database successfully\n",
      "Radiotherapy Table created successfully\n",
      "Opened database successfully\n",
      "Chemotherapy Table created successfully\n",
      "Opened database successfully\n",
      "Antimetabolite Table created successfully\n",
      "Opened database successfully\n",
      "Microtubule Table created successfully\n",
      "Opened database successfully\n",
      "Topoisomerase Table created successfully\n"
     ]
    }
   ],
   "source": [
    "#RADIOTHERAPY TABLE\n",
    "conn = sqlite3.connect('cancer.db')\n",
    "print(\"Opened database successfully\");\n",
    "conn.execute('''DROP TABLE IF EXISTS RADIOTHERAPY;''')\n",
    "conn.execute('''CREATE TABLE IF NOT EXISTS RADIOTHERAPY\n",
    "\n",
    "         (Radiotherapy_Treatment_Id INTEGER PRIMARY KEY NOT NULL,\n",
    "          Patient_Id TEXT NOT NULL,\n",
    "          Study_Id TEXT NOT NULL,\n",
    "          Immunotherapy_Treatment TEXT NOT NULL,\n",
    "          Radiation_Therapy TEXT NOT NULL,\n",
    "          CummulativeExpo_Immunotherapy TEXT NOT NULL,\n",
    "          FOREIGN KEY(Patient_Id) REFERENCES PATIENT(Patient_Id));''')\n",
    "\n",
    "print(\"Radiotherapy Table created successfully\");\n",
    "\n",
    "conn.close()\n",
    "\n",
    "#CHEMOTHERAPY TABLE\n",
    "conn = sqlite3.connect('cancer.db')\n",
    "print(\"Opened database successfully\");\n",
    "conn.execute('''DROP TABLE IF EXISTS CHEMOTHERAPY;''')\n",
    "conn.execute('''CREATE TABLE IF NOT EXISTS CHEMOTHERAPY\n",
    "\n",
    "         (Chemotherapy_Treatment_Id INTEGER PRIMARY KEY NOT NULL,\n",
    "          Chemotherapy_Treatment TEXT NOT NULL,\n",
    "          Patient_Id TEXT NOT NULL,\n",
    "          Study_Id  TEXT NOT NULL,\n",
    "          Cytotoxic_Chemo_TreatmentTerile TEXT NOT NULL,\n",
    "          CumulativeOtherExpo_CytoTherapy TEXT NOT NULL,\n",
    "          Oxaliplatin_Treatment TEXT NOT NULL,\n",
    "          Other_Cytotoxic_Treatment TEXT NOT NULL,\n",
    "          Cumulative_Expo_To_Oxaliplatin TEXT NOT NULL,\n",
    "          Cytotoxic_Chemo_Treatment TEXT NOT NULL,\n",
    "          FOREIGN KEY(Patient_Id) REFERENCES PATIENT(Patient_Id));''')\n",
    "\n",
    "print(\"Chemotherapy Table created successfully\");\n",
    "\n",
    "conn.close()\n",
    "\n",
    "#ANTIMETABOLITE TABLE\n",
    "conn = sqlite3.connect('cancer.db')\n",
    "print(\"Opened database successfully\");\n",
    "conn.execute('''DROP TABLE IF EXISTS ANTIMETABOLITE;''')\n",
    "conn.execute('''CREATE TABLE IF NOT EXISTS ANTIMETABOLITE\n",
    "\n",
    "         (Antimetabolite_Treatment_Id  INTEGER PRIMARY KEY NOT NULL,\n",
    "          Antimetabolite_Treatment TEXT NOT NULL,\n",
    "          Patient_Id TEXT NOT NULL,\n",
    "          Study_Id  TEXT NOT NULL,\n",
    "          Cumulative_Exposure_To_Antimetabolite TEXT NOT NULL,\n",
    "          Carboplatin Treatment  TEXT NOT NULL,\n",
    "          Cumulative_Exposure_To_Carboplatin TEXT NOT NULL,\n",
    "          Cisplatin_Treatment TEXT NOT NULL,\n",
    "          Cumulative_Exposure_To_Cisplatin TEXT NOT NULL,\n",
    "          Platinum_Treatment TEXT NOT NULL,\n",
    "          Cumulative_Exposure_To_Platinum TEXT NOT NULL,\n",
    "          FOREIGN KEY(Patient_Id) REFERENCES PATIENT(Patient_Id));''')\n",
    "\n",
    "print(\"Antimetabolite Table created successfully\");\n",
    "\n",
    "conn.close()\n",
    "\n",
    "#MICROTUBULE TABLE\n",
    "conn = sqlite3.connect('cancer.db')\n",
    "print(\"Opened database successfully\");\n",
    "conn.execute('''DROP TABLE IF EXISTS ANTIMETABOLITE;''')\n",
    "conn.execute('''CREATE TABLE IF NOT EXISTS ANTIMETABOLITE\n",
    "\n",
    "         (Microtubule_Id  INTEGER PRIMARY KEY NOT NULL,\n",
    "          EQD_Tertiles TEXT NOT NULL,\n",
    "          Patient_Id TEXT NOT NULL,\n",
    "          Study_Id  TEXT NOT NULL,\n",
    "          Oncotree_Code TEXT NOT NULL,\n",
    "          Nucleoside_Analogue_Treatment  TEXT NOT NULL,\n",
    "          Cumulative_Expo_MicroDamage TEXT NOT NULL,\n",
    "          MicroAgent_Mutation_Count INTEGER NOT NULL,\n",
    "          Folic_Acid_Analogue_Treatment TEXT NOT NULL,\n",
    "          Folic_Acid_Analogue_Treatment_II TEXT NOT NULL,\n",
    "          FOREIGN KEY(Patient_Id) REFERENCES PATIENT(Patient_Id));''')\n",
    "\n",
    "print(\"Microtubule Table created successfully\");\n",
    "\n",
    "conn.close()\n",
    "\n",
    "\n",
    "#TOPOISOMERASE TABLE\n",
    "conn = sqlite3.connect('cancer.db')\n",
    "print(\"Opened database successfully\");\n",
    "conn.execute('''DROP TABLE IF EXISTS TOPOISOMERASE;''')\n",
    "conn.execute('''CREATE TABLE IF NOT EXISTS TOPOISOMERASE\n",
    "\n",
    "         (Topoisomerase_Treatment_Id  INTEGER PRIMARY KEY NOT NULL,\n",
    "          Cumulative_Topoisomerase_I TEXT NOT NULL,\n",
    "          Patient_Id TEXT NOT NULL,\n",
    "          Study_Id  TEXT NOT NULL,\n",
    "          Cumulative_Topoisomerase_II TEXT NOT NULL,\n",
    "          Topoisomerase_I_Inhibitor_Status TEXT NOT NULL,\n",
    "          Topoisomerase_II_Inhibitor_Status TEXT NOT NULL,\n",
    "          Folic_Acid_Analog_Treatment TEXT NOT NULL,\n",
    "          Folic_Acid_Analog_Treatment_II TEXT NOT NULL,\n",
    "          FOREIGN KEY(Patient_Id) REFERENCES PATIENT(Patient_Id));''')\n",
    "\n",
    "print(\"Topoisomerase Table created successfully\");\n",
    "\n",
    "conn.close()\n"
   ]
  },
  {
   "cell_type": "markdown",
   "metadata": {},
   "source": [
    "Scrapping Twitter for #breastcancer"
   ]
  },
  {
   "cell_type": "code",
   "execution_count": 21,
   "metadata": {
    "collapsed": false,
    "jupyter": {
     "outputs_hidden": false
    }
   },
   "outputs": [
    {
     "name": "stderr",
     "output_type": "stream",
     "text": [
      "[WDM] - Current google-chrome version is 107.0.5304\n",
      "[WDM] - Get LATEST driver version for 107.0.5304\n"
     ]
    },
    {
     "name": "stdout",
     "output_type": "stream",
     "text": [
      " \n"
     ]
    },
    {
     "name": "stderr",
     "output_type": "stream",
     "text": [
      "[WDM] - Driver [/Users/amulyamurahari/.wdm/drivers/chromedriver/mac64/107.0.5304.62/chromedriver] found in cache\n"
     ]
    },
    {
     "name": "stdout",
     "output_type": "stream",
     "text": [
      "Twitter Data added successfully !\n"
     ]
    }
   ],
   "source": [
    "from twitter_scraper_selenium import scrape_keyword\n",
    "import json\n",
    "from twitter_scraper_selenium import get_profile_details\n",
    "import random\n",
    "\n",
    "CANCER_TYPE = 'breastcancer'\n",
    "\n",
    "#SCRAPING FOR CANCER KEYWORD\n",
    "cancer = json.loads(scrape_keyword(keyword='#' + CANCER_TYPE, browser=\"chrome\",\n",
    "                                   tweets_count=100, output_format=\"json\", until=\"2023-08-31\", since=\"2021-11-11\"))\n",
    "\n",
    "for item in cancer:\n",
    "    userName = cancer[item]['username'];\n",
    "\n",
    "    #Fetching User profile Data\n",
    "    filename = \"twitter_api_data\"\n",
    "    data = json.loads(get_profile_details(twitter_username=userName))\n",
    "\n",
    "    #Storing details which are to be inserted\n",
    "    Handle_Name = data['name']\n",
    "    Description = data['description']\n",
    "    Followers_Count = data['followers_count']\n",
    "    Created_Date = data['created_at']\n",
    "    smoker = random.choice(['Yes', 'No'])\n",
    "    hasCancer = random.choice(['Yes', 'No'])\n",
    "    Image_Url = data['profile_image_url']\n",
    "    Tweets_Handle = data['name']\n",
    "    Tweets_Text = cancer[item]['content']\n",
    "    Posted_At = cancer[item]['posted_time']\n",
    "    Tweet_id = cancer[item]['tweet_id']\n",
    "    location = 'NA' if data['location'] == \"\" else data['location']\n",
    "    Tweet_Url = cancer[item]['tweet_url']\n",
    "    alert = random.choice(['Yes', 'No'])\n",
    "\n",
    "    #Insert into USER table\n",
    "    conn = sqlite3.connect('cancer.db')\n",
    "    conn.execute(\n",
    "        'INSERT INTO USER (User_Name,Handle_Name,Description,Followers_Count,Created_Date,Image_Url,Smoker,hasCancer,Cancer_Type) VALUES (?,?,?,?,?,?,?,?,?)',\n",
    "        (userName, Handle_Name, Description, Followers_Count, Created_Date, Image_Url, smoker, hasCancer, CANCER_TYPE))\n",
    "    conn.commit()\n",
    "    conn.close()\n",
    "\n",
    "    #Fetch User_id from USER TABLE\n",
    "\n",
    "    User_id = 0;\n",
    "    conn = sqlite3.connect('cancer.db')\n",
    "    cur = conn.cursor()\n",
    "    cur.execute('SELECT User_Id FROM USER WHERE User_Name = ?', (userName,))\n",
    "    rows = cur.fetchone()\n",
    "\n",
    "\n",
    "    for row in rows:\n",
    "        User_id = row\n",
    "\n",
    "    conn.commit()\n",
    "    conn.close()\n",
    "\n",
    "    #Insert into TWEETS TABLE\n",
    "    conn = sqlite3.connect('cancer.db')\n",
    "    conn.execute(\n",
    "        'INSERT INTO TWEETS (Tweet_Id,Tweet_Handle,Tweet_Text,Posted_At,Alert,User_Id) VALUES (?,?,?,?,?,?)',\n",
    "        (Tweet_id, Handle_Name, Tweets_Text, Posted_At, alert, User_id))\n",
    "    conn.commit()\n",
    "    conn.close()\n",
    "\n",
    "    #Insert into LOCATION TABLE\n",
    "    conn = sqlite3.connect('cancer.db')\n",
    "    conn.execute(\n",
    "        'INSERT INTO LOCATION (Location,User_Id) VALUES (?,?)',\n",
    "        (location, User_id))\n",
    "    conn.commit()\n",
    "    conn.close()\n",
    "\n",
    "    #Insert into TWEET_URL TABLE\n",
    "    conn = sqlite3.connect('cancer.db')\n",
    "    conn.execute(\n",
    "        'INSERT INTO Tweet_Url (Tweet_Id,Tweet_Url) VALUES (?,?)',\n",
    "        (Tweet_id, Tweet_Url))\n",
    "    conn.commit()\n",
    "    conn.close()\n",
    "\n",
    "    #Insert into TWEET_MENTION TABLE\n",
    "    conn = sqlite3.connect('cancer.db')\n",
    "    for mention in cancer[item]['mentions']:\n",
    "        conn.execute(\n",
    "            'INSERT INTO TWEET_MENTION (Source_User,Target_User,Tweet_id) VALUES (?,?,?)',\n",
    "            (Handle_Name, mention, Tweet_id))\n",
    "        conn.commit()\n",
    "    conn.close()\n",
    "\n",
    "    #Insert into HASHTAG TABLE\n",
    "    conn = sqlite3.connect('cancer.db')\n",
    "    for text in cancer[item]['hashtags']:\n",
    "        conn.execute(\n",
    "            'INSERT INTO HASHTAG (Hashtag_Text,Tweet_id) VALUES (?,?)',\n",
    "            (text, Tweet_id))\n",
    "        conn.commit()\n",
    "    conn.close()\n",
    "\n",
    "    #Fetch Hashtag_id from USER TABLE\n",
    "\n",
    "    Hashtag_id = 0;\n",
    "    conn = sqlite3.connect('cancer.db')\n",
    "    cur = conn.cursor()\n",
    "    cur.execute('SELECT Hashtag_id FROM HASHTAG WHERE Tweet_Id = ? and Hashtag_Text=? collate nocase',\n",
    "                (Tweet_id, CANCER_TYPE))\n",
    "    rows = cur.fetchone()\n",
    "\n",
    "    if rows != None:\n",
    "        for row in rows:\n",
    "            Hashtag_id = row\n",
    "\n",
    "    conn.commit()\n",
    "    conn.close()\n",
    "\n",
    "    #Insert into CANCER_TYPE TABLE\n",
    "    conn = sqlite3.connect('cancer.db')\n",
    "    conn.execute('INSERT INTO CANCER_TYPE (Hashtag_Id,Cancer_type) VALUES (?,?)', (Hashtag_id, CANCER_TYPE))\n",
    "    conn.commit()\n",
    "    conn.close()\n",
    "\n",
    "    #Fetch Cancer_Id from CANCER_TYPE TABLE\n",
    "    Cancer_Id = 0;\n",
    "    conn = sqlite3.connect('cancer.db')\n",
    "    cur = conn.cursor()\n",
    "    cur.execute('SELECT Cancer_Id FROM CANCER_TYPE WHERE CANCER_TYPE=?', (CANCER_TYPE,))\n",
    "    rows = cur.fetchone()\n",
    "\n",
    "    if rows != None:\n",
    "        for row in rows:\n",
    "            Cancer_Id = row\n",
    "\n",
    "    conn.commit()\n",
    "    conn.close()\n",
    "\n",
    "    #Insert into TREATMENT TABLE\n",
    "    conn = sqlite3.connect('cancer.db')\n",
    "    treatment = ['Surgery', 'Radiation', 'Chemotherapy']\n",
    "    conn.execute('INSERT INTO TREATMENT (Cancer_Id,Treatment_type) VALUES (?,?)', (Cancer_Id, random.choice(treatment)))\n",
    "\n",
    "    conn.commit()\n",
    "    conn.close()\n",
    "print(\"Twitter Data added successfully !\")\n"
   ]
  },
  {
   "cell_type": "markdown",
   "metadata": {},
   "source": [
    "Scrapping Twitter for #lungcancer"
   ]
  },
  {
   "cell_type": "markdown",
   "metadata": {},
   "source": [
    "Scraping Twitter for #bloodcancer"
   ]
  },
  {
   "cell_type": "markdown",
   "metadata": {},
   "source": [
    "Scraping Twitter for #kidneycancer"
   ]
  },
  {
   "cell_type": "markdown",
   "metadata": {},
   "source": [
    "Scraping Twitter for #bladdercancer"
   ]
  },
  {
   "cell_type": "code",
   "execution_count": null,
   "metadata": {
    "collapsed": false,
    "jupyter": {
     "outputs_hidden": false
    }
   },
   "outputs": [],
   "source": [
    "#Most popular Cancer_Type Tweets\n",
    "SELECT Cancer_Type, COUNT(Hashtag_Id)\n",
    "FROM CANCER_TYPE\n",
    "GROUP BY Cancer_Type\n",
    "ORDER BY COUNT(Hashtag_Id) DESC;\n",
    "\n",
    "#Most popular Treatment Type Tweets\n",
    "SELECT Treatment_Type, COUNT(Treatment_Id)\n",
    "FROM TREATMENT\n",
    "GROUP BY Treatment_Type\n",
    "ORDER BY COUNT(Treatment_Id) DESC;\n",
    "\n",
    "#Most popular Location for cancer tweets\n",
    "SELECT Location, COUNT(Location_Id)\n",
    "FROM LOCATION\n",
    "GROUP BY Location\n",
    "ORDER BY COUNT(Location_Id) DESC;\n",
    "\n",
    "#No. of tweets made on Lung Cancer Type\n",
    "SELECT COUNT(T.Tweet_Id)\n",
    "FROM TWEETS T, HASHTAG H, CANCER_TYPE C\n",
    "WHERE T.Tweet_Id = H.Tweet_Id\n",
    "AND H.Hashtag_Id = C.Hashtag_Id\n",
    "AND C.Cancer_Type = 'lungcancer';\n",
    "\n",
    "#No. of tweets made on Breast Cancer Type\n",
    "SELECT COUNT(T.Tweet_Id)\n",
    "FROM TWEETS T, HASHTAG H, CANCER_TYPE C\n",
    "WHERE T.Tweet_Id = H.Tweet_Id\n",
    "AND H.Hashtag_Id = C.Hashtag_Id\n",
    "AND C.Cancer_Type = 'breastcancer';\n",
    "\n",
    "#No. of tweets made on Kidney Cancer Type\n",
    "SELECT COUNT(T.Tweet_Id)\n",
    "FROM TWEETS T, HASHTAG H, CANCER_TYPE C\n",
    "WHERE T.Tweet_Id = H.Tweet_Id\n",
    "AND H.Hashtag_Id = C.Hashtag_Id\n",
    "AND C.Cancer_Type = 'kidneycancer';\n",
    "\n",
    "#Smokers got Cancer\n",
    "SELECT hasCancer,COUNT(User_Id)\n",
    "FROM USER\n",
    "WHERE hasCancer = 'Yes'\n",
    "AND Smoker = 'Yes'\n",
    "ORDER BY COUNT(User_Id);\n",
    "\n",
    "#Smokers haven't got Cancer\n",
    "SELECT hasCancer,COUNT(User_Id)\n",
    "FROM USER\n",
    "WHERE hasCancer = 'No'\n",
    "AND Smoker = 'Yes'\n",
    "ORDER BY COUNT(User_Id);\n",
    "\n",
    "#Non smokers got Cancer\n",
    "SELECT hasCancer,COUNT(User_Id)\n",
    "FROM USER\n",
    "WHERE hasCancer = 'Yes'\n",
    "AND Smoker = 'No'\n",
    "ORDER BY COUNT(User_Id);\n",
    "\n",
    "#Medical Emergency Alert\n",
    "SELECT U.User_Name, U.Handle_Name, U.Smoker, U.hasCancer, U.Cancer_Type\n",
    "FROM USER U, TWEETS T\n",
    "WHERE U.User_Id = T.User_Id\n",
    "AND Alert = 'Yes';\n",
    "\n",
    "#Most popular Hashtag Cancer\n",
    "SELECT Hashtag_Text, COUNT(Hashtag_Text)\n",
    "FROM HASHTAG\n",
    "GROUP BY Hashtag_Text\n",
    "ORDER BY COUNT(Hashtag_Text) DESC;\n",
    "\n",
    "#Rare Cancer Type\n",
    "SELECT Cancer_Type, COUNT(Cancer_Type)\n",
    "FROM CANCER_TYPE\n",
    "GROUP BY Cancer_Type\n",
    "ORDER BY COUNT(Cancer_Type) ASC;\n",
    "\n",
    "#Review the tweets made by the user\n",
    "SELECT * FROM TWEETS T, USER U\n",
    "WHERE T.User_Id = U.User_Id;\n",
    "\n",
    "#No. of tweets made on Skin Cancer Type\n",
    "SELECT COUNT(T.Tweet_Id)\n",
    "FROM TWEETS T, HASHTAG H, CANCER_TYPE C\n",
    "WHERE T.Tweet_Id = H.Tweet_Id\n",
    "AND H.Hashtag_Id = C.Hashtag_Id\n",
    "AND C.Cancer_Type = 'skincancer';\n",
    "\n",
    "#No. of tweets made on Prostate Cancer Type\n",
    "SELECT COUNT(T.Tweet_Id)\n",
    "FROM TWEETS T, HASHTAG H, CANCER_TYPE C\n",
    "WHERE T.Tweet_Id = H.Tweet_Id\n",
    "AND H.Hashtag_Id = C.Hashtag_Id\n",
    "AND C.Cancer_Type = 'prostatecancer';\n"
   ]
  },
  {
   "cell_type": "markdown",
   "metadata": {},
   "source": []
  }
 ],
 "metadata": {
  "kernelspec": {
   "display_name": "Python 3 (ipykernel)",
   "language": "python",
   "name": "python3"
  },
  "language_info": {
   "codemirror_mode": {
    "name": "ipython",
    "version": 3
   },
   "file_extension": ".py",
   "mimetype": "text/x-python",
   "name": "python",
   "nbconvert_exporter": "python",
   "pygments_lexer": "ipython3",
   "version": "3.11.0"
  }
 },
 "nbformat": 4,
 "nbformat_minor": 4
}
